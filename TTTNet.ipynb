{
  "nbformat": 4,
  "nbformat_minor": 0,
  "metadata": {
    "colab": {
      "name": "TTTNet.ipynb",
      "provenance": [],
      "collapsed_sections": [],
      "include_colab_link": true
    },
    "kernelspec": {
      "name": "python3",
      "display_name": "Python 3"
    },
    "language_info": {
      "name": "python"
    }
  },
  "cells": [
    {
      "cell_type": "markdown",
      "metadata": {
        "id": "view-in-github",
        "colab_type": "text"
      },
      "source": [
        "<a href=\"https://colab.research.google.com/github/keith-leung/cis667/blob/master/TTTNet.ipynb\" target=\"_parent\"><img src=\"https://colab.research.google.com/assets/colab-badge.svg\" alt=\"Open In Colab\"/></a>"
      ]
    },
    {
      "cell_type": "code",
      "metadata": {
        "id": "kP7cuj46KtjV",
        "colab": {
          "base_uri": "https://localhost:8080/",
          "height": 35
        },
        "outputId": "4788a58d-d58c-4d5a-fe51-550d784fc9c4"
      },
      "source": [
        "\"\"\"\n",
        "TODO:\n",
        "Compare batched and non batched training times\n",
        "Compare with and without data augmentation\n",
        "\"\"\""
      ],
      "execution_count": null,
      "outputs": [
        {
          "output_type": "execute_result",
          "data": {
            "application/vnd.google.colaboratory.intrinsic+json": {
              "type": "string"
            },
            "text/plain": [
              "'\\nTODO:\\nCompare batched and non batched training times\\nCompare with and without data augmentation\\n'"
            ]
          },
          "metadata": {},
          "execution_count": 1
        }
      ]
    },
    {
      "cell_type": "code",
      "metadata": {
        "id": "whzlZm7EcTgW"
      },
      "source": [
        "import numpy as np\n",
        "import matplotlib.pyplot as pt\n",
        "import torch as tr"
      ],
      "execution_count": null,
      "outputs": []
    },
    {
      "cell_type": "code",
      "metadata": {
        "colab": {
          "base_uri": "https://localhost:8080/"
        },
        "id": "P-k1wpU1et_K",
        "outputId": "151e2b54-09d9-4bc0-8a3c-19cc4fdf678d"
      },
      "source": [
        "# Domain API for tic tac toe, similar to the minimax lecture\n",
        "class TicTacToeState(object):\n",
        "\n",
        "    def __init__(self, board):\n",
        "        self.board = board.copy()\n",
        "    def __str__(self):\n",
        "        return \"\\n\".join([\"\".join(row) for row in self.board])\n",
        "\n",
        "    def is_leaf(self):\n",
        "        if self.score_for_max_player() != 0: return True\n",
        "        return (self.board == \"_\").sum() == 0\n",
        "\n",
        "    def score_for_max_player(self):\n",
        "        # max player is X\n",
        "        for player, score in zip(\"XO\", [+1, -1]):\n",
        "            if (self.board == player).all(axis=0).any(): return score\n",
        "            if (self.board == player).all(axis=1).any(): return score\n",
        "            if (np.diag(self.board) == player).all(): return score\n",
        "            if (np.diag(np.rot90(self.board)) == player).all(): return score\n",
        "        return 0\n",
        "\n",
        "    def is_max_players_turn(self):\n",
        "        return (self.board == \"O\").sum() == (self.board == \"X\").sum()\n",
        "    def is_min_players_turn(self):\n",
        "        return not self.is_max_players_turn()\n",
        "\n",
        "    def valid_actions(self):\n",
        "        return list(zip(*np.nonzero(self.board == \"_\")))\n",
        "\n",
        "    def perform(self, action):\n",
        "        player = \"X\" if self.is_max_players_turn() else \"O\"\n",
        "        row, col = action\n",
        "        new_state = TicTacToeState(self.board)\n",
        "        new_state.board[row, col] = player\n",
        "        return new_state\n",
        "\n",
        "def initial_state(size):\n",
        "    board = np.empty((size, size), dtype=str)\n",
        "    board[:] = \"_\"\n",
        "    return TicTacToeState(board)\n",
        "\n",
        "if __name__ == \"__main__\":\n",
        "    \n",
        "    state = initial_state(size=5)\n",
        "    print(state)\n",
        "    while True:\n",
        "        if state.is_leaf(): break\n",
        "        actions = state.valid_actions()\n",
        "        print(actions)\n",
        "        if len(actions) == 0: break\n",
        "        state = state.perform(actions[0])\n",
        "        print(state)\n",
        "    print(\"max score, is over:\")\n",
        "    print(state.score_for_max_player())\n",
        "    print(state.is_leaf())\n"
      ],
      "execution_count": null,
      "outputs": [
        {
          "output_type": "stream",
          "name": "stdout",
          "text": [
            "_____\n",
            "_____\n",
            "_____\n",
            "_____\n",
            "_____\n",
            "[(0, 0), (0, 1), (0, 2), (0, 3), (0, 4), (1, 0), (1, 1), (1, 2), (1, 3), (1, 4), (2, 0), (2, 1), (2, 2), (2, 3), (2, 4), (3, 0), (3, 1), (3, 2), (3, 3), (3, 4), (4, 0), (4, 1), (4, 2), (4, 3), (4, 4)]\n",
            "X____\n",
            "_____\n",
            "_____\n",
            "_____\n",
            "_____\n",
            "[(0, 1), (0, 2), (0, 3), (0, 4), (1, 0), (1, 1), (1, 2), (1, 3), (1, 4), (2, 0), (2, 1), (2, 2), (2, 3), (2, 4), (3, 0), (3, 1), (3, 2), (3, 3), (3, 4), (4, 0), (4, 1), (4, 2), (4, 3), (4, 4)]\n",
            "XO___\n",
            "_____\n",
            "_____\n",
            "_____\n",
            "_____\n",
            "[(0, 2), (0, 3), (0, 4), (1, 0), (1, 1), (1, 2), (1, 3), (1, 4), (2, 0), (2, 1), (2, 2), (2, 3), (2, 4), (3, 0), (3, 1), (3, 2), (3, 3), (3, 4), (4, 0), (4, 1), (4, 2), (4, 3), (4, 4)]\n",
            "XOX__\n",
            "_____\n",
            "_____\n",
            "_____\n",
            "_____\n",
            "[(0, 3), (0, 4), (1, 0), (1, 1), (1, 2), (1, 3), (1, 4), (2, 0), (2, 1), (2, 2), (2, 3), (2, 4), (3, 0), (3, 1), (3, 2), (3, 3), (3, 4), (4, 0), (4, 1), (4, 2), (4, 3), (4, 4)]\n",
            "XOXO_\n",
            "_____\n",
            "_____\n",
            "_____\n",
            "_____\n",
            "[(0, 4), (1, 0), (1, 1), (1, 2), (1, 3), (1, 4), (2, 0), (2, 1), (2, 2), (2, 3), (2, 4), (3, 0), (3, 1), (3, 2), (3, 3), (3, 4), (4, 0), (4, 1), (4, 2), (4, 3), (4, 4)]\n",
            "XOXOX\n",
            "_____\n",
            "_____\n",
            "_____\n",
            "_____\n",
            "[(1, 0), (1, 1), (1, 2), (1, 3), (1, 4), (2, 0), (2, 1), (2, 2), (2, 3), (2, 4), (3, 0), (3, 1), (3, 2), (3, 3), (3, 4), (4, 0), (4, 1), (4, 2), (4, 3), (4, 4)]\n",
            "XOXOX\n",
            "O____\n",
            "_____\n",
            "_____\n",
            "_____\n",
            "[(1, 1), (1, 2), (1, 3), (1, 4), (2, 0), (2, 1), (2, 2), (2, 3), (2, 4), (3, 0), (3, 1), (3, 2), (3, 3), (3, 4), (4, 0), (4, 1), (4, 2), (4, 3), (4, 4)]\n",
            "XOXOX\n",
            "OX___\n",
            "_____\n",
            "_____\n",
            "_____\n",
            "[(1, 2), (1, 3), (1, 4), (2, 0), (2, 1), (2, 2), (2, 3), (2, 4), (3, 0), (3, 1), (3, 2), (3, 3), (3, 4), (4, 0), (4, 1), (4, 2), (4, 3), (4, 4)]\n",
            "XOXOX\n",
            "OXO__\n",
            "_____\n",
            "_____\n",
            "_____\n",
            "[(1, 3), (1, 4), (2, 0), (2, 1), (2, 2), (2, 3), (2, 4), (3, 0), (3, 1), (3, 2), (3, 3), (3, 4), (4, 0), (4, 1), (4, 2), (4, 3), (4, 4)]\n",
            "XOXOX\n",
            "OXOX_\n",
            "_____\n",
            "_____\n",
            "_____\n",
            "[(1, 4), (2, 0), (2, 1), (2, 2), (2, 3), (2, 4), (3, 0), (3, 1), (3, 2), (3, 3), (3, 4), (4, 0), (4, 1), (4, 2), (4, 3), (4, 4)]\n",
            "XOXOX\n",
            "OXOXO\n",
            "_____\n",
            "_____\n",
            "_____\n",
            "[(2, 0), (2, 1), (2, 2), (2, 3), (2, 4), (3, 0), (3, 1), (3, 2), (3, 3), (3, 4), (4, 0), (4, 1), (4, 2), (4, 3), (4, 4)]\n",
            "XOXOX\n",
            "OXOXO\n",
            "X____\n",
            "_____\n",
            "_____\n",
            "[(2, 1), (2, 2), (2, 3), (2, 4), (3, 0), (3, 1), (3, 2), (3, 3), (3, 4), (4, 0), (4, 1), (4, 2), (4, 3), (4, 4)]\n",
            "XOXOX\n",
            "OXOXO\n",
            "XO___\n",
            "_____\n",
            "_____\n",
            "[(2, 2), (2, 3), (2, 4), (3, 0), (3, 1), (3, 2), (3, 3), (3, 4), (4, 0), (4, 1), (4, 2), (4, 3), (4, 4)]\n",
            "XOXOX\n",
            "OXOXO\n",
            "XOX__\n",
            "_____\n",
            "_____\n",
            "[(2, 3), (2, 4), (3, 0), (3, 1), (3, 2), (3, 3), (3, 4), (4, 0), (4, 1), (4, 2), (4, 3), (4, 4)]\n",
            "XOXOX\n",
            "OXOXO\n",
            "XOXO_\n",
            "_____\n",
            "_____\n",
            "[(2, 4), (3, 0), (3, 1), (3, 2), (3, 3), (3, 4), (4, 0), (4, 1), (4, 2), (4, 3), (4, 4)]\n",
            "XOXOX\n",
            "OXOXO\n",
            "XOXOX\n",
            "_____\n",
            "_____\n",
            "[(3, 0), (3, 1), (3, 2), (3, 3), (3, 4), (4, 0), (4, 1), (4, 2), (4, 3), (4, 4)]\n",
            "XOXOX\n",
            "OXOXO\n",
            "XOXOX\n",
            "O____\n",
            "_____\n",
            "[(3, 1), (3, 2), (3, 3), (3, 4), (4, 0), (4, 1), (4, 2), (4, 3), (4, 4)]\n",
            "XOXOX\n",
            "OXOXO\n",
            "XOXOX\n",
            "OX___\n",
            "_____\n",
            "[(3, 2), (3, 3), (3, 4), (4, 0), (4, 1), (4, 2), (4, 3), (4, 4)]\n",
            "XOXOX\n",
            "OXOXO\n",
            "XOXOX\n",
            "OXO__\n",
            "_____\n",
            "[(3, 3), (3, 4), (4, 0), (4, 1), (4, 2), (4, 3), (4, 4)]\n",
            "XOXOX\n",
            "OXOXO\n",
            "XOXOX\n",
            "OXOX_\n",
            "_____\n",
            "[(3, 4), (4, 0), (4, 1), (4, 2), (4, 3), (4, 4)]\n",
            "XOXOX\n",
            "OXOXO\n",
            "XOXOX\n",
            "OXOXO\n",
            "_____\n",
            "[(4, 0), (4, 1), (4, 2), (4, 3), (4, 4)]\n",
            "XOXOX\n",
            "OXOXO\n",
            "XOXOX\n",
            "OXOXO\n",
            "X____\n",
            "max score, is over:\n",
            "1\n",
            "True\n"
          ]
        }
      ]
    },
    {
      "cell_type": "code",
      "metadata": {
        "colab": {
          "base_uri": "https://localhost:8080/"
        },
        "id": "N6kj91QAfbuW",
        "outputId": "cfdd7c7b-53b2-40a4-a4c7-83bcaa199589"
      },
      "source": [
        "# Code to generate training data\n",
        "# Each training example is an intermediate game state, paired with its minimax value\n",
        "\n",
        "# The minimax algorithm\n",
        "def minimax(state):\n",
        "    if state.is_leaf():\n",
        "        return state.score_for_max_player()\n",
        "    else:\n",
        "        child_utilities = [\n",
        "            minimax(state.perform(action))\n",
        "            for action in state.valid_actions()]\n",
        "        if state.is_max_players_turn(): return max(child_utilities)\n",
        "        if state.is_min_players_turn(): return min(child_utilities)\n",
        "\n",
        "# Used to get a random state somewhere in the game tree for a training example\n",
        "# Performs random actions for the given number of turns (depth parameter)\n",
        "def random_state(depth=0, size=3):\n",
        "    state = initial_state(size)\n",
        "    for d in range(depth):\n",
        "        actions = state.valid_actions()\n",
        "        if len(actions) == 0: break\n",
        "        action = actions[np.random.randint(len(actions))]\n",
        "        state = state.perform(action)\n",
        "    return state\n",
        "\n",
        "# Used to generate a training data set\n",
        "# Samples random states at a given depth and then calculates their minimax value\n",
        "def generate(num_examples, depth, size):\n",
        "    examples = []\n",
        "    for n in range(num_examples):\n",
        "        state = random_state(depth, size)\n",
        "        utility = minimax(state)\n",
        "        examples.append((state, utility))\n",
        "    return examples\n",
        "\n",
        "# Augment data with rotations and reflections\n",
        "def augment(examples):\n",
        "    augmented = []\n",
        "    for state, utility in examples:\n",
        "        for k in range(4):\n",
        "            rot = np.rot90(state.board, k)\n",
        "            augmented.append((TicTacToeState(rot), utility))\n",
        "            augmented.append((TicTacToeState(rot[:,::-1]), utility))\n",
        "    return augmented\n",
        "\n",
        "# Used to convert a game state to a tensor encoding suitable for NN input\n",
        "# Uses one-hot encoding at each grid position\n",
        "def encode(state):\n",
        "    # encoding[0,:,:] == 1 where there are \"_\"s, 0 elsewhere\n",
        "    # encoding[1,:,:] == 1 where there are \"O\"s, 0 elsewhere\n",
        "    # encoding[2,:,:] == 1 where there are \"X\"s, 0 elsewhere\n",
        "    symbols = np.array([\"_\",\"O\",\"X\"]).reshape(-1,1,1)\n",
        "    onehot = (symbols == state.board).astype(np.float32)\n",
        "    return tr.tensor(onehot)\n",
        "\n",
        "# Run some sanity checks to make sure generation and encoding are working\n",
        "if __name__ == \"__main__\":\n",
        "\n",
        "    size = 4\n",
        "\n",
        "    examples = generate(num_examples=5, depth=10, size=size)\n",
        "    for n, (state, utility) in enumerate(examples):\n",
        "        print(\"example %d:\" % n)\n",
        "        print(state)\n",
        "        print(\"utility = %d\" % utility)\n",
        "\n",
        "    print(\"Encoding of last example state:\")\n",
        "    encoding = encode(state)\n",
        "    print(encoding)\n",
        "\n",
        "    # quick test for encode\n",
        "    print(\"\")\n",
        "    print(\"Encoding of initial state:\")\n",
        "    encoding = encode(initial_state(size))\n",
        "    print(encoding)\n",
        "    assert(type(encoding) == tr.Tensor)\n",
        "    expected = tr.zeros((3,size,size))\n",
        "    expected[0,:,:] = 1\n",
        "    assert((encoding == expected).all())\n",
        "    \n",
        "    print(\"If you see this line, initial state was encoded correctly\")\n",
        "\n"
      ],
      "execution_count": null,
      "outputs": [
        {
          "output_type": "stream",
          "name": "stdout",
          "text": [
            "example 0:\n",
            "_OXX\n",
            "_OX_\n",
            "__XO\n",
            "_OXO\n",
            "utility = 1\n",
            "example 1:\n",
            "XO__\n",
            "_OOO\n",
            "X_OX\n",
            "X_X_\n",
            "utility = 1\n",
            "example 2:\n",
            "_OX_\n",
            "_XO_\n",
            "__OO\n",
            "XOXX\n",
            "utility = 0\n",
            "example 3:\n",
            "O__O\n",
            "XXX_\n",
            "OO__\n",
            "OX_X\n",
            "utility = 1\n",
            "example 4:\n",
            "OOX_\n",
            "_XX_\n",
            "OXO_\n",
            "__XO\n",
            "utility = 0\n",
            "Encoding of last example state:\n",
            "tensor([[[0., 0., 0., 1.],\n",
            "         [1., 0., 0., 1.],\n",
            "         [0., 0., 0., 1.],\n",
            "         [1., 1., 0., 0.]],\n",
            "\n",
            "        [[1., 1., 0., 0.],\n",
            "         [0., 0., 0., 0.],\n",
            "         [1., 0., 1., 0.],\n",
            "         [0., 0., 0., 1.]],\n",
            "\n",
            "        [[0., 0., 1., 0.],\n",
            "         [0., 1., 1., 0.],\n",
            "         [0., 1., 0., 0.],\n",
            "         [0., 0., 1., 0.]]])\n",
            "\n",
            "Encoding of initial state:\n",
            "tensor([[[1., 1., 1., 1.],\n",
            "         [1., 1., 1., 1.],\n",
            "         [1., 1., 1., 1.],\n",
            "         [1., 1., 1., 1.]],\n",
            "\n",
            "        [[0., 0., 0., 0.],\n",
            "         [0., 0., 0., 0.],\n",
            "         [0., 0., 0., 0.],\n",
            "         [0., 0., 0., 0.]],\n",
            "\n",
            "        [[0., 0., 0., 0.],\n",
            "         [0., 0., 0., 0.],\n",
            "         [0., 0., 0., 0.],\n",
            "         [0., 0., 0., 0.]]])\n",
            "If you see this line, initial state was encoded correctly\n"
          ]
        }
      ]
    },
    {
      "cell_type": "code",
      "metadata": {
        "id": "6fMNyjS9himg",
        "colab": {
          "base_uri": "https://localhost:8080/"
        },
        "outputId": "dfea3d19-6a90-4830-acdd-66e29d4318b8"
      },
      "source": [
        "# Generate a lot of training/testing data\n",
        "training_examples = generate(num_examples = 100, depth=10, size=4)\n",
        "testing_examples = generate(num_examples = 50, depth=10, size=4)\n",
        "\n",
        "# augment training data\n",
        "print(len(training_examples))\n",
        "training_examples = augment(training_examples)\n",
        "print(len(training_examples))"
      ],
      "execution_count": null,
      "outputs": [
        {
          "output_type": "stream",
          "name": "stdout",
          "text": [
            "100\n",
            "800\n"
          ]
        }
      ]
    },
    {
      "cell_type": "code",
      "metadata": {
        "colab": {
          "base_uri": "https://localhost:8080/"
        },
        "id": "BQoa_wlhOoJG",
        "outputId": "ccc621b6-07d2-45d7-edcc-50f08c044328"
      },
      "source": [
        "# Baseline testing error: always predict 0 for minimax result\n",
        "_, utilities = zip(*testing_examples)\n",
        "baseline_error =sum((u-0)**2 for u in utilities) / len(utilities)\n",
        "print(baseline_error)"
      ],
      "execution_count": null,
      "outputs": [
        {
          "output_type": "stream",
          "name": "stdout",
          "text": [
            "0.48\n"
          ]
        }
      ]
    },
    {
      "cell_type": "code",
      "metadata": {
        "colab": {
          "base_uri": "https://localhost:8080/"
        },
        "id": "WTB2gz8-FW6B",
        "outputId": "2d31ea15-078e-4c84-ea32-19d570457849"
      },
      "source": [
        "# Defines a network with two fully-connected layers and tanh activation functions\n",
        "class LinNet(tr.nn.Module):\n",
        "    def __init__(self, size, hid_features):\n",
        "        super(LinNet, self).__init__()\n",
        "        self.to_hidden = tr.nn.Linear(3*size**2, hid_features)\n",
        "        self.to_output = tr.nn.Linear(hid_features, 1)\n",
        "    def forward(self, x):\n",
        "        h = tr.relu(self.to_hidden(x.reshape(x.shape[0],-1)))\n",
        "        y = tr.tanh(self.to_output(h))\n",
        "        return y\n",
        "\n",
        "class ConvNet(tr.nn.Module):\n",
        "    def __init__(self, size, hid_features):\n",
        "        super(ConvNet, self).__init__()\n",
        "        self.to_hidden = tr.nn.Conv2d(3, hid_features, 2)\n",
        "        self.to_output = tr.nn.Linear(hid_features*(size-1)**2, 1)\n",
        "    def forward(self, x):\n",
        "        h = tr.relu(self.to_hidden(x))\n",
        "        y = tr.tanh(self.to_output(h.reshape(x.shape[0],-1)))\n",
        "        return y\n",
        "\n",
        "for Net in (LinNet, ConvNet):\n",
        "    net = Net(size=4, hid_features=8)\n",
        "    print(net)\n",
        "    print(net(tr.zeros(1,3,4,4)))\n"
      ],
      "execution_count": null,
      "outputs": [
        {
          "output_type": "stream",
          "name": "stdout",
          "text": [
            "LinNet(\n",
            "  (to_hidden): Linear(in_features=48, out_features=8, bias=True)\n",
            "  (to_output): Linear(in_features=8, out_features=1, bias=True)\n",
            ")\n",
            "tensor([[-0.2739]], grad_fn=<TanhBackward0>)\n",
            "ConvNet(\n",
            "  (to_hidden): Conv2d(3, 8, kernel_size=(2, 2), stride=(1, 1))\n",
            "  (to_output): Linear(in_features=72, out_features=1, bias=True)\n",
            ")\n",
            "tensor([[-0.0013]], grad_fn=<TanhBackward0>)\n"
          ]
        }
      ]
    },
    {
      "cell_type": "code",
      "metadata": {
        "colab": {
          "base_uri": "https://localhost:8080/",
          "height": 265
        },
        "id": "CKjx67KgLn-Z",
        "outputId": "13c7cdf2-f1f7-4fe7-ea13-41e151c71513"
      },
      "source": [
        "def cnn_viz(net):\n",
        "    numrows = net.to_hidden.weight.shape[0] # out channels\n",
        "    numcols = net.to_hidden.weight.shape[1] # in channels\n",
        "    pt.figure(figsize=(numcols, numrows))\n",
        "\n",
        "    sp = 0\n",
        "    for r in range(numrows):\n",
        "        for c in range(numcols):\n",
        "            sp += 1\n",
        "            pt.subplot(numrows, numcols, sp)\n",
        "            pt.imshow(net.to_hidden.weight[r,c].detach().numpy(), cmap=\"gray\")\n",
        "    pt.show()\n",
        "\n",
        "cnn_viz(ConvNet(4, hid_features=4))"
      ],
      "execution_count": null,
      "outputs": [
        {
          "output_type": "display_data",
          "data": {
            "image/png": "[encoded data removed]",
            "text/plain": [
              "<Figure size 216x288 with 12 Axes>"
            ]
          },
          "metadata": {
            "needs_background": "light"
          }
        }
      ]
    },
    {
      "cell_type": "code",
      "metadata": {
        "colab": {
          "base_uri": "https://localhost:8080/"
        },
        "id": "Y9Yq4Tt1gydp",
        "outputId": "68c4d395-bfd5-42a3-a22b-5479cb80a8fa"
      },
      "source": [
        "# Calculates the error on one training example\n",
        "def example_error(net, example):\n",
        "    state, utility = example\n",
        "    x = encode(state).unsqueeze(0)\n",
        "    y = net(x)\n",
        "    e = (y - utility)**2\n",
        "    return e\n",
        "\n",
        "# Calculates the error on a batch of training examples\n",
        "def batch_error(net, batch):\n",
        "    states, utilities = batch\n",
        "    u = utilities.reshape(-1,1).float()\n",
        "    y = net(states)\n",
        "    e = tr.sum((y - u)**2) / utilities.shape[0]\n",
        "    return e\n",
        "\n",
        "# Trains the network on some generated data\n",
        "if __name__ == \"__main__\":\n",
        "\n",
        "    # whether to loop over individual training examples or batch them\n",
        "    batched = True\n",
        "\n",
        "    # Make the network and optimizer\n",
        "    # net = LinNet(size=4, hid_features=4)\n",
        "    # optimizer = tr.optim.SGD(net.parameters(), lr=0.001, momentum=0.9)\n",
        "\n",
        "    net = ConvNet(size=4, hid_features=4)\n",
        "    optimizer = tr.optim.SGD(net.parameters(), lr=0.00001, momentum=0.9)\n",
        "\n",
        "    # Convert the states and their minimax utilities to tensors\n",
        "    states, utilities = zip(*training_examples)\n",
        "    training_batch = tr.stack(tuple(map(encode, states))), tr.tensor(utilities)\n",
        "\n",
        "    states, utilities = zip(*testing_examples)\n",
        "    testing_batch = tr.stack(tuple(map(encode, states))), tr.tensor(utilities)\n",
        "\n",
        "    # Run the gradient descent iterations\n",
        "    curves = [], []\n",
        "    for epoch in range(50000):\n",
        "    \n",
        "        # zero out the gradients for the next backward pass\n",
        "        optimizer.zero_grad()\n",
        "\n",
        "        # loop version (slow)\n",
        "        if not batched:\n",
        " \n",
        "            training_error, testing_error = 0, 0\n",
        "\n",
        "            for n, example in enumerate(training_examples):\n",
        "                e = example_error(net, example)\n",
        "                e.backward()\n",
        "                training_error += e.item()\n",
        "            training_error /= len(training_examples)\n",
        "\n",
        "            with tr.no_grad(): # less computationally expensive\n",
        "                for n, example in enumerate(testing_examples):\n",
        "                    e = example_error(net, example)\n",
        "                    testing_error += e.item()\n",
        "                testing_error /= len(testing_examples)\n",
        "\n",
        "        # batch version (fast)\n",
        "        if batched:\n",
        "            e = batch_error(net, training_batch)\n",
        "            e.backward()\n",
        "            training_error = e.item()\n",
        "\n",
        "            with tr.no_grad():\n",
        "                e = batch_error(net, testing_batch)\n",
        "                testing_error = e.item()\n",
        "\n",
        "        # take the next optimization step\n",
        "        optimizer.step()    \n",
        "        \n",
        "        # print/save training progress\n",
        "        if epoch % 1000 == 0:\n",
        "            print(\"%d: %f, %f\" % (epoch, training_error, testing_error))\n",
        "        curves[0].append(training_error)\n",
        "        curves[1].append(testing_error)\n"
      ],
      "execution_count": null,
      "outputs": [
        {
          "output_type": "stream",
          "name": "stdout",
          "text": [
            "0: 0.608205, 0.769377\n",
            "1000: 0.415710, 0.538543\n",
            "2000: 0.330072, 0.428285\n",
            "3000: 0.292232, 0.375735\n",
            "4000: 0.275493, 0.350167\n",
            "5000: 0.267955, 0.337431\n",
            "6000: 0.264374, 0.330928\n",
            "7000: 0.262466, 0.327451\n",
            "8000: 0.261278, 0.325497\n",
            "9000: 0.260406, 0.324362\n",
            "10000: 0.259684, 0.323681\n",
            "11000: 0.259041, 0.323266\n",
            "12000: 0.258443, 0.323017\n",
            "13000: 0.257877, 0.322873\n",
            "14000: 0.257336, 0.322794\n",
            "15000: 0.256812, 0.322744\n",
            "16000: 0.256308, 0.322724\n",
            "17000: 0.255822, 0.322720\n",
            "18000: 0.255356, 0.322719\n",
            "19000: 0.254906, 0.322721\n",
            "20000: 0.254471, 0.322730\n",
            "21000: 0.254050, 0.322747\n",
            "22000: 0.253641, 0.322769\n",
            "23000: 0.253243, 0.322794\n",
            "24000: 0.252856, 0.322823\n",
            "25000: 0.252480, 0.322856\n",
            "26000: 0.252116, 0.322890\n",
            "27000: 0.251762, 0.322930\n",
            "28000: 0.251417, 0.322973\n",
            "29000: 0.251082, 0.323017\n",
            "30000: 0.250747, 0.323084\n",
            "31000: 0.250417, 0.323141\n",
            "32000: 0.250095, 0.323193\n",
            "33000: 0.249781, 0.323243\n",
            "34000: 0.249476, 0.323289\n",
            "35000: 0.249183, 0.323306\n",
            "36000: 0.248898, 0.323322\n",
            "37000: 0.248621, 0.323347\n",
            "38000: 0.248349, 0.323377\n",
            "39000: 0.248082, 0.323410\n",
            "40000: 0.247820, 0.323442\n",
            "41000: 0.247564, 0.323475\n",
            "42000: 0.247313, 0.323508\n",
            "43000: 0.247067, 0.323541\n",
            "44000: 0.246826, 0.323567\n",
            "45000: 0.246590, 0.323586\n",
            "46000: 0.246359, 0.323606\n",
            "47000: 0.246132, 0.323628\n",
            "48000: 0.245910, 0.323651\n",
            "49000: 0.245692, 0.323675\n"
          ]
        }
      ]
    },
    {
      "cell_type": "code",
      "metadata": {
        "colab": {
          "base_uri": "https://localhost:8080/",
          "height": 265
        },
        "id": "7OvliOjjj26w",
        "outputId": "76805225-bc0b-41fa-c8ce-c7a81c91854b"
      },
      "source": [
        "# visualize learning curves on train/test data\n",
        "pt.plot(curves[0], 'b-')\n",
        "pt.plot(curves[1], 'r-')\n",
        "pt.plot([0, len(curves[1])], [baseline_error, baseline_error], 'g-')\n",
        "pt.plot()\n",
        "pt.legend([\"Train\",\"Test\",\"Baseline\"])\n",
        "pt.show()\n"
      ],
      "execution_count": null,
      "outputs": [
        {
          "output_type": "display_data",
          "data": {
            "image/png": "[encoded data removed]",
            "text/plain": [
              "<Figure size 432x288 with 1 Axes>"
            ]
          },
          "metadata": {
            "needs_background": "light"
          }
        }
      ]
    },
    {
      "cell_type": "code",
      "metadata": {
        "colab": {
          "base_uri": "https://localhost:8080/",
          "height": 265
        },
        "id": "9GRTuw_PLDYD",
        "outputId": "b6e975fb-c9bd-4725-facf-80f001563662"
      },
      "source": [
        "cnn_viz(net)"
      ],
      "execution_count": null,
      "outputs": [
        {
          "output_type": "display_data",
          "data": {
            "image/png": "[encoded data removed]",
            "text/plain": [
              "<Figure size 216x288 with 12 Axes>"
            ]
          },
          "metadata": {
            "needs_background": "light"
          }
        }
      ]
    },
    {
      "cell_type": "code",
      "metadata": {
        "id": "Gt28shQVGszO"
      },
      "source": [
        "# Compare two AIs against each-other using depth-limited minimax\n",
        "# Returns the best action and its child utility\n",
        "\n",
        "def dl_minimax(state, max_depth, eval_fn):\n",
        "    if state.is_leaf():\n",
        "        return 0, state.score_for_max_player()\n",
        "    elif max_depth == 0:\n",
        "        return 0, eval_fn(state)\n",
        "    else:\n",
        "        child_utilities = [\n",
        "            dl_minimax(state.perform(action), max_depth-1, eval_fn)[1]\n",
        "            for action in state.valid_actions()]\n",
        "\n",
        "        if state.is_max_players_turn(): a = np.argmax(child_utilities)\n",
        "        if state.is_min_players_turn(): a = np.argmin(child_utilities)\n",
        "\n",
        "        return a, child_utilities[a]\n",
        "\n",
        "# Baseline AI uses a very simple evaluation function that always returns 0 for non-leaf nodes\n",
        "simple_eval = lambda state: 0\n",
        "\n",
        "# The other AI uses the NN for its eval_fn\n",
        "def nn_eval(state):\n",
        "    with tr.no_grad():\n",
        "        utility = net(encode(state).unsqueeze(0))\n",
        "    return utility"
      ],
      "execution_count": null,
      "outputs": []
    },
    {
      "cell_type": "code",
      "metadata": {
        "colab": {
          "base_uri": "https://localhost:8080/"
        },
        "id": "k5TeVArBQXa7",
        "outputId": "3b3efa91-63b6-46ef-d673-79b3d0e1f161"
      },
      "source": [
        "# Play the two AI's against each other\n",
        "\n",
        "state = initial_state(size=4)\n",
        "print(state)\n",
        "while not state.is_leaf():\n",
        "\n",
        "    if state.is_max_players_turn():\n",
        "        # for action in state.valid_actions():\n",
        "        #     child = state.perform(action)\n",
        "        #     nn_eval(child)\n",
        "        # np.argmax(...)\n",
        "\n",
        "        a, _ = dl_minimax(state, 4, nn_eval)\n",
        "    \n",
        "    else:\n",
        "\n",
        "        a, _ = dl_minimax(state, 4, simple_eval) # baseline eval\n",
        "        #a = np.random.choice(len(state.valid_actions())) # baseline uniform\n",
        "\n",
        "    action = state.valid_actions()[a]\n",
        "    print(action)\n",
        "\n",
        "    state = state.perform(action)\n",
        "    print(state)\n",
        "\n",
        "print(\"Final score:\")\n",
        "print(state.score_for_max_player())"
      ],
      "execution_count": null,
      "outputs": [
        {
          "output_type": "stream",
          "name": "stdout",
          "text": [
            "____\n",
            "____\n",
            "____\n",
            "____\n",
            "(0, 0)\n",
            "X___\n",
            "____\n",
            "____\n",
            "____\n",
            "(0, 1)\n",
            "XO__\n",
            "____\n",
            "____\n",
            "____\n",
            "(2, 2)\n",
            "XO__\n",
            "____\n",
            "__X_\n",
            "____\n",
            "(0, 2)\n",
            "XOO_\n",
            "____\n",
            "__X_\n",
            "____\n",
            "(3, 3)\n",
            "XOO_\n",
            "____\n",
            "__X_\n",
            "___X\n",
            "(1, 1)\n",
            "XOO_\n",
            "_O__\n",
            "__X_\n",
            "___X\n",
            "(2, 1)\n",
            "XOO_\n",
            "_O__\n",
            "_XX_\n",
            "___X\n",
            "(0, 3)\n",
            "XOOO\n",
            "_O__\n",
            "_XX_\n",
            "___X\n",
            "(2, 0)\n",
            "XOOO\n",
            "_O__\n",
            "XXX_\n",
            "___X\n",
            "(2, 3)\n",
            "XOOO\n",
            "_O__\n",
            "XXXO\n",
            "___X\n",
            "(3, 0)\n",
            "XOOO\n",
            "_O__\n",
            "XXXO\n",
            "X__X\n",
            "(1, 0)\n",
            "XOOO\n",
            "OO__\n",
            "XXXO\n",
            "X__X\n",
            "(1, 2)\n",
            "XOOO\n",
            "OOX_\n",
            "XXXO\n",
            "X__X\n",
            "(1, 3)\n",
            "XOOO\n",
            "OOXO\n",
            "XXXO\n",
            "X__X\n",
            "(3, 1)\n",
            "XOOO\n",
            "OOXO\n",
            "XXXO\n",
            "XX_X\n",
            "(3, 2)\n",
            "XOOO\n",
            "OOXO\n",
            "XXXO\n",
            "XXOX\n",
            "Final score:\n",
            "0\n"
          ]
        }
      ]
    }
  ]
}