{
  "nbformat": 4,
  "nbformat_minor": 0,
  "metadata": {
    "colab": {
      "name": "States_and_Actions.ipynb",
      "provenance": [],
      "collapsed_sections": [],
      "include_colab_link": true
    },
    "kernelspec": {
      "name": "python3",
      "display_name": "Python 3"
    },
    "language_info": {
      "name": "python"
    }
  },
  "cells": [
    {
      "cell_type": "markdown",
      "metadata": {
        "id": "view-in-github",
        "colab_type": "text"
      },
      "source": [
        "<a href=\"https://colab.research.google.com/github/keith-leung/cis667/blob/master/States_and_Actions.ipynb\" target=\"_parent\"><img src=\"https://colab.research.google.com/assets/colab-badge.svg\" alt=\"Open In Colab\"/></a>"
      ]
    },
    {
      "cell_type": "code",
      "metadata": {
        "colab": {
          "base_uri": "https://localhost:8080/"
        },
        "id": "M93DN9frSNQe",
        "outputId": "fe192b7f-3875-4cd9-e1dd-b3dfd42c934e"
      },
      "source": [
        "from scipy.special import comb\n",
        "print(comb(3,1))"
      ],
      "execution_count": null,
      "outputs": [
        {
          "output_type": "stream",
          "name": "stdout",
          "text": [
            "3.0\n"
          ]
        }
      ]
    },
    {
      "cell_type": "code",
      "metadata": {
        "id": "2e_I9KQXlsLc"
      },
      "source": [
        "#@title\n",
        "\"\"\"\n",
        "Example:\n",
        "Add code to return the size of the frontier at each iteration of the while loop\n",
        "\"\"\"\n",
        "def reachable_states(valid_actions, perform_action, initial_state):\n",
        "    frontier = set([initial_state])\n",
        "    explored = set()\n",
        "    while len(frontier) > 0:\n",
        "        state = frontier.pop()\n",
        "        explored.add(state)\n",
        "        for action in valid_actions(state):\n",
        "            new_state = perform_action(state, action)\n",
        "            if new_state not in explored and new_state not in frontier:\n",
        "                frontier.add(new_state)\n",
        "    return explored\n"
      ],
      "execution_count": null,
      "outputs": []
    },
    {
      "cell_type": "code",
      "metadata": {
        "colab": {
          "base_uri": "https://localhost:8080/"
        },
        "id": "KHUc_Aixke1n",
        "outputId": "dfac1cbd-c1ab-4c63-e842-57b7268c85a9"
      },
      "source": [
        "\"\"\"\n",
        "Bottle states are represented by tuples (l0, l1, l2, l3,...)\n",
        "lb is the number of liters currently in the bth bottle\n",
        "Actions are \"fill b\", \"dump b\", and \"pour b1 into b2\" for each b.\n",
        "Examples:\n",
        "1. Finish implementing perform_action where indicated by # TODO\n",
        "2. Fix bug in valid_actions\n",
        "\"\"\"\n",
        "\n",
        "# Max capacity of each bottle\n",
        "capacities = (5, 3)\n",
        "\n",
        "def valid_actions(state):\n",
        "    bottles = range(len(state))\n",
        "    fills = [\"fill %d\"%b for b in bottles]\n",
        "    empty = [\"dump %d\"%b for b in bottles]\n",
        "    pours = [\"pour %d into %d\"%(b1,b2)\n",
        "      for b1 in bottles for b2 in bottles\n",
        "      if b1 != b2]\n",
        "    return fills + empty + pours\n",
        "\n",
        "def perform_action(state, action):\n",
        "    new_state = list(state)\n",
        "    if action[:4] == \"fill\":\n",
        "        b = int(action[5:]) # bottle to fill\n",
        "        new_state[b] = capacities[b]\n",
        "    if action[:4] == \"dump\":\n",
        "        b = int(action[5:]) # bottle to dump\n",
        "        # TODO: update new_state here\n",
        "        new_state[b] = 0\n",
        "    if action[:4] == \"pour\":\n",
        "        b1, b2 = map(int, action[5:].split(\" into \")) # pour b1 into b2\n",
        "        # TODO: update new_state here\n",
        "        diff = capacities[b2] - state[b2]\n",
        "        howmuch = state[b1]\n",
        "        volume = min(diff, howmuch)\n",
        "        new_state[b1] = state[b1] - volume\n",
        "        new_state[b2] = state[b2] + volume\n",
        "        #if new_state[b1] <= diff:\n",
        "        #  new_state[b2] += new_state[b1]\n",
        "        #  new_state[b1] = 0\n",
        "        #else:\n",
        "    return tuple(new_state)\n",
        "\n",
        "plan = [\"fill 0\", \"pour 0 into 1\"]\n",
        "state = (0, 0)\n",
        "print(state)\n",
        "for action in plan:\n",
        "    print(action)\n",
        "    state = perform_action(state, action)\n",
        "    print(state)\n",
        "\n",
        "# from graph_search import reachable_states\n",
        "states = reachable_states(\n",
        "    valid_actions,\n",
        "    perform_action,\n",
        "    initial_state=(0,0))\n",
        "print(\"reachable state counts:\")\n",
        "for i,s in enumerate(states): print(\"%d: %s\" % (i,s))\n",
        "\n"
      ],
      "execution_count": null,
      "outputs": [
        {
          "output_type": "stream",
          "name": "stdout",
          "text": [
            "(0, 0)\n",
            "fill 0\n",
            "(5, 0)\n",
            "pour 0 into 1\n",
            "(2, 3)\n",
            "reachable state counts:\n",
            "0: (0, 1)\n",
            "1: (0, 0)\n",
            "2: (1, 3)\n",
            "3: (3, 3)\n",
            "4: (3, 0)\n",
            "5: (1, 0)\n",
            "6: (4, 0)\n",
            "7: (2, 0)\n",
            "8: (2, 3)\n",
            "9: (5, 0)\n",
            "10: (4, 3)\n",
            "11: (5, 1)\n",
            "12: (0, 3)\n",
            "13: (5, 2)\n",
            "14: (0, 2)\n",
            "15: (5, 3)\n"
          ]
        }
      ]
    },
    {
      "cell_type": "code",
      "metadata": {
        "colab": {
          "base_uri": "https://localhost:8080/"
        },
        "id": "0rZZoO2-ZO6j",
        "outputId": "c35195fe-dba8-45da-efd7-9aaf3fd46451"
      },
      "source": [
        "s = [2,3]\n",
        "s[1] = 0\n",
        "print(s)"
      ],
      "execution_count": null,
      "outputs": [
        {
          "output_type": "stream",
          "name": "stdout",
          "text": [
            "[2, 0]\n"
          ]
        }
      ]
    },
    {
      "cell_type": "code",
      "metadata": {
        "colab": {
          "base_uri": "https://localhost:8080/"
        },
        "id": "AliDVcbtaTwV",
        "outputId": "79ca0d0a-262c-4eb1-a83d-be0866bf8bc4"
      },
      "source": [
        "  state = (2,3,2)\n",
        "  bottles = list(range(len(state)))\n",
        "  print(bottles)\n",
        "  fills = [\"fill %d\"%b for b in bottles]\n",
        "  print(fills)\n",
        "  pours = [\"pour %d into %d\"%(b1,b2) for b1 in bottles for b2 in bottles]\n",
        "  pours = [\"pour %d into %d\"%(b1,b2)\n",
        "      for b1 in bottles for b2 in bottles\n",
        "      if b1 != b2]\n",
        "  pours = [\"pour %d into %d\"%(b1,b2)\n",
        "      for b1 in bottles for b2 in bottles\n",
        "      if b1 != b2]\n",
        "  pours = [\"pour %d into %d\"%(b1,b2)\n",
        "      for b1 in bottles for b2 in bottles[b1+1:]\n",
        "      if b1 != b2]\n",
        "  print(pours)\n",
        "  "
      ],
      "execution_count": null,
      "outputs": [
        {
          "output_type": "stream",
          "name": "stdout",
          "text": [
            "[0, 1, 2]\n",
            "['fill 0', 'fill 1', 'fill 2']\n",
            "['pour 0 into 1', 'pour 0 into 2', 'pour 1 into 2']\n"
          ]
        }
      ]
    },
    {
      "cell_type": "code",
      "metadata": {
        "id": "6aMAD8VLmZX-",
        "colab": {
          "base_uri": "https://localhost:8080/",
          "height": 1000
        },
        "outputId": "1580134d-e6b1-4883-b95f-45812d276a61"
      },
      "source": [
        "\"\"\"\n",
        "Roomba state is (r, c, p) for row, column, and power level\n",
        "Actions are (dr, dc) for one step up, down, left, or right\n",
        "For example, (1, 0) moves down one row and stays in the same column\n",
        "Examples:\n",
        "1. Update valid_actions to include left/right motions\n",
        "2. Update valid_actions and perform_action to model power loss\n",
        "    a. No actions are valid when power is 0\n",
        "    b. Every action reduces power by 1\n",
        "    c. If roomba is at a charging station in a new state, its power is restored to max_power\n",
        "3. Add code at the end of __main__ to count the reachable states where roomba's power is exactly 2\n",
        "\"\"\"\n",
        "import numpy as np\n",
        "import matplotlib.pyplot as pt\n",
        "\n",
        "# random grid world with wall (0), open (1), charge (2) cells\n",
        "num_rows, num_cols = 4, 8 # num rows and cols\n",
        "grid = np.ones((num_rows, num_cols))\n",
        "walls = np.random.rand(*grid.shape) < .1 \n",
        "chargers = np.random.rand(*grid.shape) < .1 \n",
        "grid[walls] = 0\n",
        "grid[chargers] = 2\n",
        "max_power = 5\n",
        "\n",
        "# # deterministic grid world\n",
        "# num_rows, num_cols = 4, 8\n",
        "# grid = np.ones((num_rows, num_cols))\n",
        "# grid[-1,:int(num_cols/2)] = 0 # wall\n",
        "# grid[2, 2] = 2 # charger\n",
        "# max_power = 3\n",
        "\n",
        "def showgrid(state):\n",
        "    r, c, p = state\n",
        "    pt.imshow(grid, cmap='gray', vmin=0, vmax=2)\n",
        "    for col in range(num_cols+1): pt.plot([col-.5, col-.5], [-.5, num_rows-.5], 'k-')\n",
        "    for row in range(num_rows+1): pt.plot([-.5, num_cols-.5], [row-.5, row-.5], 'k-')\n",
        "    pt.text(c, r, str(p), fontsize=24)\n",
        "    pt.tick_params(which='both', bottom=False, left=False, labelbottom=False, labelleft=False)\n",
        "\n",
        "def valid_actions(state):\n",
        "    r, c, p = state\n",
        "    actions = []\n",
        "    ### TODO: add code to deal with zero power\n",
        "    if r > 0 and grid[r-1,c] > 0: actions.append((-1, 0))\n",
        "    if r < num_rows-1 and grid[r+1,c] > 0: actions.append((1, 0))\n",
        "    ### TODO: add code for column (c) boundaries\n",
        "    return actions\n",
        "\n",
        "def perform_action(state, action):\n",
        "    r, c, p = state\n",
        "    dr, dc = action\n",
        "    ### TODO: add code to deal with drainage and recharging\n",
        "    new_state = (r+dr, c+dc, p)\n",
        "    return new_state\n",
        "\n",
        "if __name__ == \"__main__\":\n",
        "    \n",
        "    positions = list(zip(*np.nonzero(grid)))\n",
        "    r, c = positions[np.random.randint(len(positions))]\n",
        "    state = (r, c, max_power)\n",
        "\n",
        "    pt.ion()\n",
        "    pt.figure()\n",
        "    showgrid(state)\n",
        "    pt.show()\n",
        "    print(state)\n",
        "    for t in range(3):\n",
        "        actions = valid_actions(state)\n",
        "        if len(actions) == 0: break\n",
        "        action = actions[np.random.randint(len(actions))]\n",
        "        print(action)\n",
        "        state = perform_action(state, action)\n",
        "        print(state)\n",
        "        pt.cla()\n",
        "        showgrid(state)\n",
        "        pt.pause(.5)\n",
        "        pt.show()\n",
        "    \n",
        "    pt.ioff()\n",
        "    showgrid(state)\n",
        "    pt.show()\n",
        "\n",
        "    # from graph_search import reachable_states\n",
        "    states = reachable_states(\n",
        "        valid_actions,\n",
        "        perform_action,\n",
        "        initial_state=state)\n",
        "    \n",
        "    print(len(states))\n",
        "\n",
        "    # ### TODO: count the reachable states with power == 2\n"
      ],
      "execution_count": null,
      "outputs": [
        {
          "output_type": "display_data",
          "data": {
            "image/png": "[encoded data removed]",
            "text/plain": [
              "<Figure size 432x288 with 1 Axes>"
            ]
          },
          "metadata": {}
        },
        {
          "output_type": "stream",
          "name": "stdout",
          "text": [
            "(0, 6, 5)\n",
            "(1, 0)\n",
            "(1, 6, 5)\n"
          ]
        },
        {
          "output_type": "display_data",
          "data": {
            "image/png": "[encoded data removed]",
            "text/plain": [
              "<Figure size 432x288 with 1 Axes>"
            ]
          },
          "metadata": {}
        },
        {
          "output_type": "stream",
          "name": "stdout",
          "text": [
            "(-1, 0)\n",
            "(0, 6, 5)\n"
          ]
        },
        {
          "output_type": "display_data",
          "data": {
            "image/png": "[encoded data removed]",
            "text/plain": [
              "<Figure size 432x288 with 1 Axes>"
            ]
          },
          "metadata": {}
        },
        {
          "output_type": "stream",
          "name": "stdout",
          "text": [
            "(1, 0)\n",
            "(1, 6, 5)\n"
          ]
        },
        {
          "output_type": "display_data",
          "data": {
            "image/png": "[encoded data removed]",
            "text/plain": [
              "<Figure size 432x288 with 1 Axes>"
            ]
          },
          "metadata": {}
        },
        {
          "output_type": "display_data",
          "data": {
            "image/png": "[encoded data removed]",
            "text/plain": [
              "<Figure size 432x288 with 1 Axes>"
            ]
          },
          "metadata": {}
        },
        {
          "output_type": "error",
          "ename": "NameError",
          "evalue": "ignored",
          "traceback": [
            "\u001b[0;31m---------------------------------------------------------------------------\u001b[0m",
            "\u001b[0;31mNameError\u001b[0m                                 Traceback (most recent call last)",
            "\u001b[0;32m<ipython-input-1-c67c8ae8456d>\u001b[0m in \u001b[0;36m<module>\u001b[0;34m()\u001b[0m\n\u001b[1;32m     82\u001b[0m \u001b[0;34m\u001b[0m\u001b[0m\n\u001b[1;32m     83\u001b[0m     \u001b[0;31m# from graph_search import reachable_states\u001b[0m\u001b[0;34m\u001b[0m\u001b[0;34m\u001b[0m\u001b[0;34m\u001b[0m\u001b[0m\n\u001b[0;32m---> 84\u001b[0;31m     states = reachable_states(\n\u001b[0m\u001b[1;32m     85\u001b[0m         \u001b[0mvalid_actions\u001b[0m\u001b[0;34m,\u001b[0m\u001b[0;34m\u001b[0m\u001b[0;34m\u001b[0m\u001b[0m\n\u001b[1;32m     86\u001b[0m         \u001b[0mperform_action\u001b[0m\u001b[0;34m,\u001b[0m\u001b[0;34m\u001b[0m\u001b[0;34m\u001b[0m\u001b[0m\n",
            "\u001b[0;31mNameError\u001b[0m: name 'reachable_states' is not defined"
          ]
        }
      ]
    },
    {
      "cell_type": "code",
      "metadata": {
        "colab": {
          "base_uri": "https://localhost:8080/",
          "height": 491
        },
        "id": "gMqU-_X8rwaS",
        "outputId": "f41245b1-0de8-44e5-f8df-4c36a242adcc"
      },
      "source": [
        "\"\"\"\n",
        "2x2x2 rubiks cube\n",
        "state is a 2x2x2x3 char array\n",
        "first 3 dimensions are positions on the cube\n",
        "last dimension is the colors in each of the 3 spatial directions\n",
        "spatial directions are 0:x, 1:y, 2:z\n",
        "\"\"\"\n",
        "import numpy as np\n",
        "import matplotlib.pyplot as pt\n",
        "from matplotlib.patches import Polygon\n",
        "\n",
        "R, G, B, W, Y, O = range(6)\n",
        "colors = {\n",
        "    R: (1.,0.,0.), # red\n",
        "    G: (0.,1.,0.), # green\n",
        "    B: (0.,0.,1.), # blue\n",
        "    W: (1.,1.,1.), # white\n",
        "    Y: (1.,1.,0.), # yellow\n",
        "    O: (1.,.64,0.), # orange\n",
        "}\n",
        "\n",
        "def unhash(state):\n",
        "    return np.frombuffer(state, dtype=np.byte).reshape((2,2,2,3))\n",
        "def rehash(state):\n",
        "    return state.tobytes()\n",
        "\n",
        "def showcube(state):\n",
        "    state = unhash(state)\n",
        "    ax = pt.gca()\n",
        "    angles = -np.arange(3) * np.pi * 2 / 3\n",
        "    axes = np.array([np.cos(angles), np.sin(angles)])\n",
        "    for d in range(3):\n",
        "        for a, b in [(0,0),(0,1),(1,0),(1,1)]:\n",
        "            xy = [a*axes[:,d] + b*axes[:,(d+1) % 3],\n",
        "                (a+1)*axes[:,d] + b*axes[:,(d+1) % 3],\n",
        "                (a+1)*axes[:,d] + (b+1)*axes[:,(d+1) % 3],\n",
        "                a*axes[:,d] + (b+1)*axes[:,(d+1) % 3]]\n",
        "            c = colors[state[tuple(np.roll((a,b,0),d))+((d+2) % 3,)]]\n",
        "            ax.add_patch(Polygon(xy, facecolor=c, edgecolor='k'))\n",
        "    pt.xlim(2*axes[0,:].min(), 2*axes[0,:].max())\n",
        "    pt.ylim(2*axes[1,:].min(), 2*axes[1,:].max())\n",
        "    ax.axis('equal')\n",
        "    ax.axis('off')\n",
        "\n",
        "def valid_actions(state):\n",
        "    return [0, 1, 2] # which spatial direction to spin\n",
        "\n",
        "def perform_action(state, action):\n",
        "    new_state = unhash(state).copy()\n",
        "    # rotate cubie positions\n",
        "    index = [slice(None)]*4\n",
        "    index[action] = 1\n",
        "    new_state[tuple(index)] = np.rot90(new_state[tuple(index)], axes=(0,1))\n",
        "    # rotate cubies\n",
        "    swap = [d for d in range(3) if d != action]\n",
        "    new_state[tuple(index[:3])+(swap,)] = new_state[tuple(index[:3])+(swap[::-1],)]\n",
        "    return rehash(new_state)\n",
        "\n",
        "if __name__ == \"__main__\":\n",
        "    \n",
        "    solved = np.zeros((2,2,2,3),dtype=np.byte)\n",
        "    solved[0,:,:,0] = R\n",
        "    solved[1,:,:,0] = O\n",
        "    solved[:,0,:,1] = W\n",
        "    solved[:,1,:,1] = Y\n",
        "    solved[:,:,1,2] = G\n",
        "    solved[:,:,0,2] = B\n",
        "    print(solved)\n",
        "    solved = rehash(solved)\n",
        "    \n",
        "    pt.subplot(1,3,1)\n",
        "    showcube(solved)\n",
        "    \n",
        "    state = solved\n",
        "    plan = [0, 1, 2]\n",
        "    for action in plan:\n",
        "        state = perform_action(state, action)\n",
        "    pt.subplot(1,3,2)\n",
        "    showcube(state)\n",
        "\n",
        "    for action in np.repeat(plan[::-1], 3):\n",
        "        state = perform_action(state, action)\n",
        "    pt.subplot(1,3,3)\n",
        "    showcube(state)\n",
        "    pt.show()\n",
        "    \n",
        "    # from graph_search import reachable_states\n",
        "    print(\"Searching reachable states...\")\n",
        "    states = reachable_states(valid_actions, perform_action, solved)\n",
        "    print(len(states))\n"
      ],
      "execution_count": null,
      "outputs": [
        {
          "output_type": "stream",
          "name": "stdout",
          "text": [
            "[[[[0 3 2]\n",
            "   [0 3 1]]\n",
            "\n",
            "  [[0 4 2]\n",
            "   [0 4 1]]]\n",
            "\n",
            "\n",
            " [[[5 3 2]\n",
            "   [5 3 1]]\n",
            "\n",
            "  [[5 4 2]\n",
            "   [5 4 1]]]]\n"
          ]
        },
        {
          "output_type": "display_data",
          "data": {
            "image/png": "[encoded data removed]",
            "text/plain": [
              "<Figure size 432x288 with 3 Axes>"
            ]
          },
          "metadata": {
            "needs_background": "light"
          }
        },
        {
          "output_type": "stream",
          "name": "stdout",
          "text": [
            "Searching reachable states...\n",
            "3674160\n"
          ]
        }
      ]
    }
  ]
}